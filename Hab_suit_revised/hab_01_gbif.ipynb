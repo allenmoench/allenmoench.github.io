{
 "cells": [
  {
   "cell_type": "markdown",
   "metadata": {},
   "source": [
    "#Habitat Suitability under Climate Change"
   ]
  },
  {
   "cell_type": "markdown",
   "metadata": {},
   "source": [
    "## Study Overview\n",
    "\n",
    "Understanding grasslands is essential in understanding global carbon sinks. In particular, understanding the layer of soil that lies directly beneath the surface. The presence of Andropogon gerardii, or Big Bluestem, in grassland ecosystems has been significantly connected to the quantity of carbon stored in grassland ecosystems. Where there is more bluestem, there is more stored carbon. How has this changed in recent history - have there been any changes in Bluestem's range? How might Bluestem's range change in the future, given various climate scenarios? \n",
    "\n",
    "In this study, I will examine Bluestem's historical and future range across the Buffalo Gap and Little Missouri national grasslands. I will use several different variables to come up with a suitability raster, which will show areas in which the habitat is suitable for bluestem. I will look at elevation ranges as well as soil variables, and I will combine this with climate projection scenarios to determine ways in which the bluestem's habitat range might change.\n"
   ]
  },
  {
   "cell_type": "markdown",
   "metadata": {},
   "source": [
    "### Pseudocode outline (by notebooks):\n",
    "\n",
    "- hab_01_gbif: This notebook accesses the species occurrence information for bluestem from the GBIF database.\n",
    "- hab_02_grassland_boundaries: Accesses the grassland boundary polygons from the USFS website. It then selects the specific grasslands for the study using the NationalGR number, and prints the boundaries on top of ESRI map tiles.\n",
    "- hab_03a_soil_urls: Compiles a list of urls from the Polaris soil characteristics database. The code selects soil tiles based on the latitude and longitude boundaries of the grassland polygons. Currently this notebook is looking at soil pH values.\n",
    "- hab_03b_soil_urls2: This notebook is intended to look at a second set of soil characteristics (soil type).\n",
    "- hab_04_soil_tiles: Prints out the Polaris soil tiles.\n",
    "- hab_05a_elevation1: Prints out an SRTM Digital Elevation Model for the Sheyenne national grassland.\n",
    "- hab_05b_elevation2: Prints out an SRTM Digital Elevation Model for the Curlew national grassland.\n",
    "- hab_06_macav2: Runs the maca V2 climate projection scenario.\n",
    "- hab_07a_fuzzy_logic: Contains the fuzzy logic model to determine habitat suitability.\n",
    "- hab_07b_fuzzy_logic2: Contains the fuzzy logic model to determine habitat suitability.\n",
    "- hab_08_suitability: Uses raster multiplication to calculate a suitability score for bluestem.\n"
   ]
  },
  {
   "cell_type": "markdown",
   "metadata": {},
   "source": [
    "# Species Overview: Andropogon gerardii (Big Bluestem)\n",
    "\n",
    "In terms of global carbon storage and sequestration, soil health is critical. Globally, soil organic carbon holds about 1550 Pg of carbon. Soil inorganic carbon holds about 950 Pg, which together make soil the third largest carbon pool on Earth after the geologic pool (4130 Pg, including fossil fuels) and the oceanic pool (38000 Pg)(Source 1). This figure represents around 80% of the carbon found in terrestrial ecosystems (Source 2).\n",
    "\n",
    "In one study, the species Andropogon gerardii, commonly called Big Bluestem, was found to have a positive association with carbon storage, and was used as an indicator species (Source 3).\n",
    "\n",
    "Andropogon gerardii habitat characteristics and tolerances:\n",
    "- Soil type: Lowland silt and clay loam\n",
    "- Soil horizon > 10in\n",
    "- elevation: \n",
    "        CO     3,400 to 9,500 feet (1,036-2,896 m)\n",
    "        NM     3,500 to 9,000 feet (1,067-2,743 m)\n",
    "        MT     3,300 to 4,000 feet (1,006-1,219 m)\n",
    "        WY     3,600 to 9,000 feet (1,067-2,743 m)\n",
    "(Source 4)\n",
    "- Optimal soil temperature: 25C. \"Soil temperatures below 20 °C caused significant reductions in foliar nitrogen (N) and phosphorus(P) concentration\". \"reduced photosynthetic rates observed at 5 and 10 °C Tsoil\" \"Net photosynthesis was < 12 /^mol m\"^ s\"' at 5 and 10 °C Tsoil and > 20 micromol\\ m^-2 s^-1 at 15-40 °C.\". Based on the graphs in this study, it seems that bluestem would be growth-limited above 30 and below 20 degrees C, and severely limited outside 15-35 degrees. (Source 5)\n",
    "- min soil temp -15C (source 8)\n",
    "- well drained or moist soil, full sun (Source 8)\n",
    "- Precip: 10-60mm / yr (source7)\n",
    "- pH range: 6.0-7.5 (source 10). Another source (11) says that it does fine with pH 5.5, so we'll use this as out lower-range tolerance. Optimal then is 6.5 (halfway)\n",
    "\n",
    "Sources:\n",
    "1) https://royalsocietypublishing.org/doi/pdf/10.1098/rstb.2007.2185\n",
    "2) https://www.nature.com/scitable/knowledge/library/soil-carbon-storage-84223790/#:~:text=The%20amount%20of%20C%20in,in%20soil%20(Lal%202008).\n",
    "3) https://pmc.ncbi.nlm.nih.gov/articles/PMC8367897/\n",
    "4) https://www.fs.usda.gov/database/feis/plants/graminoid/andger/all.html\n",
    "5) https://nph.onlinelibrary.wiley.com/doi/epdf/10.1111/j.1469-8137.1992.tb01804.x\n",
    "6) https://plants.usda.gov/DocumentLibrary/factsheet/pdf/fs_ange.pdf\n",
    "7) https://plants.usda.gov/DocumentLibrary/plantguide/pdf/pg_scsc.pdf\n",
    "8) https://pfaf.org/user/Plant.aspx?LatinName=Andropogon+gerardii \n",
    "9) https://link.springer.com/article/10.1023/A:1020320214750 \n",
    "10) https://greatbasinseeds.com/product/big-bluestem/?srsltid=AfmBOoqeQLl_4uKA8wwv_4x4rFgQ7XERV07BlzAzxuMDXfQcyyM8s26m\n",
    "11) https://halehabitat.com/products/big-bluestem"
   ]
  },
  {
   "cell_type": "code",
   "execution_count": null,
   "metadata": {},
   "outputs": [
    {
     "name": "stdout",
     "output_type": "stream",
     "text": [
      "Requirement already satisfied: pygbif in c:\\users\\moenc\\miniconda3\\envs\\earth-analytics-python\\lib\\site-packages (0.6.5)Note: you may need to restart the kernel to use updated packages.\n",
      "\n",
      "Requirement already satisfied: requests>2.7 in c:\\users\\moenc\\miniconda3\\envs\\earth-analytics-python\\lib\\site-packages (from pygbif) (2.32.3)\n",
      "Requirement already satisfied: requests-cache in c:\\users\\moenc\\miniconda3\\envs\\earth-analytics-python\\lib\\site-packages (from pygbif) (1.2.1)\n",
      "Requirement already satisfied: geojson_rewind in c:\\users\\moenc\\miniconda3\\envs\\earth-analytics-python\\lib\\site-packages (from pygbif) (1.1.0)\n",
      "Requirement already satisfied: geomet in c:\\users\\moenc\\miniconda3\\envs\\earth-analytics-python\\lib\\site-packages (from pygbif) (1.1.0)\n",
      "Requirement already satisfied: appdirs>=1.4.3 in c:\\users\\moenc\\miniconda3\\envs\\earth-analytics-python\\lib\\site-packages (from pygbif) (1.4.4)\n",
      "Requirement already satisfied: matplotlib in c:\\users\\moenc\\miniconda3\\envs\\earth-analytics-python\\lib\\site-packages (from pygbif) (3.9.2)\n",
      "Requirement already satisfied: charset-normalizer<4,>=2 in c:\\users\\moenc\\miniconda3\\envs\\earth-analytics-python\\lib\\site-packages (from requests>2.7->pygbif) (3.4.0)\n",
      "Requirement already satisfied: idna<4,>=2.5 in c:\\users\\moenc\\miniconda3\\envs\\earth-analytics-python\\lib\\site-packages (from requests>2.7->pygbif) (3.10)\n",
      "Requirement already satisfied: urllib3<3,>=1.21.1 in c:\\users\\moenc\\miniconda3\\envs\\earth-analytics-python\\lib\\site-packages (from requests>2.7->pygbif) (2.2.3)\n",
      "Requirement already satisfied: certifi>=2017.4.17 in c:\\users\\moenc\\miniconda3\\envs\\earth-analytics-python\\lib\\site-packages (from requests>2.7->pygbif) (2024.8.30)\n",
      "Requirement already satisfied: click in c:\\users\\moenc\\miniconda3\\envs\\earth-analytics-python\\lib\\site-packages (from geomet->pygbif) (8.1.7)\n",
      "Requirement already satisfied: contourpy>=1.0.1 in c:\\users\\moenc\\miniconda3\\envs\\earth-analytics-python\\lib\\site-packages (from matplotlib->pygbif) (1.3.0)\n",
      "Requirement already satisfied: cycler>=0.10 in c:\\users\\moenc\\miniconda3\\envs\\earth-analytics-python\\lib\\site-packages (from matplotlib->pygbif) (0.12.1)\n",
      "Requirement already satisfied: fonttools>=4.22.0 in c:\\users\\moenc\\miniconda3\\envs\\earth-analytics-python\\lib\\site-packages (from matplotlib->pygbif) (4.54.1)\n",
      "Requirement already satisfied: kiwisolver>=1.3.1 in c:\\users\\moenc\\miniconda3\\envs\\earth-analytics-python\\lib\\site-packages (from matplotlib->pygbif) (1.4.7)\n",
      "Requirement already satisfied: numpy>=1.23 in c:\\users\\moenc\\miniconda3\\envs\\earth-analytics-python\\lib\\site-packages (from matplotlib->pygbif) (2.0.2)\n",
      "Requirement already satisfied: packaging>=20.0 in c:\\users\\moenc\\miniconda3\\envs\\earth-analytics-python\\lib\\site-packages (from matplotlib->pygbif) (24.1)\n",
      "Requirement already satisfied: pillow>=8 in c:\\users\\moenc\\miniconda3\\envs\\earth-analytics-python\\lib\\site-packages (from matplotlib->pygbif) (11.0.0)\n",
      "Requirement already satisfied: pyparsing>=2.3.1 in c:\\users\\moenc\\miniconda3\\envs\\earth-analytics-python\\lib\\site-packages (from matplotlib->pygbif) (3.2.0)\n",
      "Requirement already satisfied: python-dateutil>=2.7 in c:\\users\\moenc\\miniconda3\\envs\\earth-analytics-python\\lib\\site-packages (from matplotlib->pygbif) (2.9.0)\n",
      "Requirement already satisfied: attrs>=21.2 in c:\\users\\moenc\\miniconda3\\envs\\earth-analytics-python\\lib\\site-packages (from requests-cache->pygbif) (24.2.0)\n",
      "Requirement already satisfied: cattrs>=22.2 in c:\\users\\moenc\\miniconda3\\envs\\earth-analytics-python\\lib\\site-packages (from requests-cache->pygbif) (24.1.2)\n",
      "Requirement already satisfied: platformdirs>=2.5 in c:\\users\\moenc\\miniconda3\\envs\\earth-analytics-python\\lib\\site-packages (from requests-cache->pygbif) (4.3.6)\n",
      "Requirement already satisfied: url-normalize>=1.4 in c:\\users\\moenc\\miniconda3\\envs\\earth-analytics-python\\lib\\site-packages (from requests-cache->pygbif) (1.4.3)\n",
      "Requirement already satisfied: six>=1.5 in c:\\users\\moenc\\miniconda3\\envs\\earth-analytics-python\\lib\\site-packages (from python-dateutil>=2.7->matplotlib->pygbif) (1.16.0)\n",
      "Requirement already satisfied: colorama in c:\\users\\moenc\\miniconda3\\envs\\earth-analytics-python\\lib\\site-packages (from click->geomet->pygbif) (0.4.6)\n"
     ]
    }
   ],
   "source": [
    "pip install pygbif"
   ]
  },
  {
   "cell_type": "code",
   "execution_count": 1,
   "metadata": {},
   "outputs": [
    {
     "data": {
      "text/plain": [
       "<function __main__.import_packages()>"
      ]
     },
     "execution_count": 1,
     "metadata": {},
     "output_type": "execute_result"
    }
   ],
   "source": [
    "def import_packages():\n",
    "\n",
    "    ### load packages\n",
    "\n",
    "    import os\n",
    "    from glob import glob\n",
    "    import pathlib\n",
    "\n",
    "    ### reproducible file paths\n",
    "\n",
    "    ### gbif packages\n",
    "    import pygbif.occurrences as occ\n",
    "    import pygbif.species as species\n",
    "    from getpass import getpass\n",
    "\n",
    "    ### packages for unzipping and handling gbif data\n",
    "    import zipfile\n",
    "    import time\n",
    "\n",
    "    ### deal with spatial data\n",
    "    import geopandas as gpd\n",
    "    import xrspatial\n",
    "\n",
    "    ### deal with other types of data\n",
    "    import numpy as np\n",
    "    import pandas as pd\n",
    "    import rioxarray as rxr\n",
    "    import rioxarray.merge as rxrm\n",
    "\n",
    "    ### indalid geometries\n",
    "    from shapely.geometry import MultiPolygon, Polygon\n",
    "\n",
    "    ### visualizing\n",
    "    import holoviews as hv\n",
    "    import hvplot.pandas\n",
    "    import hvplot.xarray\n",
    "import_packages"
   ]
  },
  {
   "cell_type": "code",
   "execution_count": 2,
   "metadata": {},
   "outputs": [
    {
     "data": {
      "text/plain": [
       "<function __main__.file_paths()>"
      ]
     },
     "execution_count": 2,
     "metadata": {},
     "output_type": "execute_result"
    }
   ],
   "source": [
    "def file_paths():\n",
    "\n",
    "    ### Make reproducible file paths\n",
    "    data_dir = os.path.join(\n",
    "        ### home directory\n",
    "        pathlib.Path.home(),\n",
    "        \n",
    "        ### eda directory\n",
    "        'earth-analytics',\n",
    "        'data',\n",
    "\n",
    "        ### Project dir\n",
    "        'hab_suit'\n",
    "    )\n",
    "\n",
    "    ### make the dir\n",
    "    os.makedirs(data_dir, exist_ok=True)\n",
    "file_paths"
   ]
  },
  {
   "cell_type": "markdown",
   "metadata": {},
   "source": [
    "Note: GBIF login is not working, however I kept the code in case it can be fixed!"
   ]
  },
  {
   "cell_type": "code",
   "execution_count": 3,
   "metadata": {},
   "outputs": [
    {
     "ename": "NameError",
     "evalue": "name 'os' is not defined",
     "output_type": "error",
     "traceback": [
      "\u001b[1;31m---------------------------------------------------------------------------\u001b[0m",
      "\u001b[1;31mNameError\u001b[0m                                 Traceback (most recent call last)",
      "Cell \u001b[1;32mIn[3], line 2\u001b[0m\n\u001b[0;32m      1\u001b[0m \u001b[38;5;66;03m### set gbif dir\u001b[39;00m\n\u001b[1;32m----> 2\u001b[0m gbif_dir \u001b[38;5;241m=\u001b[39m \u001b[43mos\u001b[49m\u001b[38;5;241m.\u001b[39mpath\u001b[38;5;241m.\u001b[39mjoin(data_dir, \u001b[38;5;124m'\u001b[39m\u001b[38;5;124mgbif_ponderosa\u001b[39m\u001b[38;5;124m'\u001b[39m)\n\u001b[0;32m      5\u001b[0m \u001b[38;5;66;03m### access gbif\u001b[39;00m\n\u001b[0;32m      6\u001b[0m reset_credentials\u001b[38;5;241m=\u001b[39m\u001b[38;5;28;01mTrue\u001b[39;00m\n",
      "\u001b[1;31mNameError\u001b[0m: name 'os' is not defined"
     ]
    }
   ],
   "source": [
    "### set gbif dir\n",
    "gbif_dir = os.path.join(data_dir, 'gbif_ponderosa')\n",
    "\n",
    "\n",
    "### access gbif\n",
    "reset_credentials=True\n",
    "\n",
    "### enter gbif username, password, email\n",
    "credentials=dict(\n",
    "\tGBIF_USER=(input, 'GBIF username:'),\n",
    "\tGBIF_PWD=(getpass, 'GBIF password'),\n",
    "\tGBIF_EMAIL=(input, 'GBIF email')\n",
    ")\n",
    "for env_variable, (prompt_func, prompt_text) in credentials.items():\n",
    "\n",
    "\t### delete credential from the environment\n",
    "\tif reset_credentials and (env_variable in os.environ):\n",
    "\t\tos.environ.pop(env_variable)\n",
    "\n",
    "\t### ask for credential and save to environment\n",
    "\tif not env_variable in os.environ:\n",
    "\t\tos.environ[env_variable] = prompt_func(prompt_text)\n",
    "\n"
   ]
  },
  {
   "cell_type": "code",
   "execution_count": 4,
   "metadata": {},
   "outputs": [
    {
     "ename": "NameError",
     "evalue": "name 'species' is not defined",
     "output_type": "error",
     "traceback": [
      "\u001b[1;31m---------------------------------------------------------------------------\u001b[0m",
      "\u001b[1;31mNameError\u001b[0m                                 Traceback (most recent call last)",
      "Cell \u001b[1;32mIn[4], line 5\u001b[0m\n\u001b[0;32m      2\u001b[0m species_name \u001b[38;5;241m=\u001b[39m \u001b[38;5;124m'\u001b[39m\u001b[38;5;124mAndropogon gerardii\u001b[39m\u001b[38;5;124m'\u001b[39m\n\u001b[0;32m      4\u001b[0m \u001b[38;5;66;03m### species info for gbif\u001b[39;00m\n\u001b[1;32m----> 5\u001b[0m species_info \u001b[38;5;241m=\u001b[39m \u001b[43mspecies\u001b[49m\u001b[38;5;241m.\u001b[39mname_lookup(species_name,\n\u001b[0;32m      6\u001b[0m \t\t\t\t\trank \u001b[38;5;241m=\u001b[39m \u001b[38;5;124m'\u001b[39m\u001b[38;5;124mSPECIES\u001b[39m\u001b[38;5;124m'\u001b[39m)\n\u001b[0;32m      8\u001b[0m \u001b[38;5;66;03m### grab the first resule\u001b[39;00m\n\u001b[0;32m      9\u001b[0m first_result \u001b[38;5;241m=\u001b[39m species_info[\u001b[38;5;124m'\u001b[39m\u001b[38;5;124mresults\u001b[39m\u001b[38;5;124m'\u001b[39m][\u001b[38;5;241m0\u001b[39m]\n",
      "\u001b[1;31mNameError\u001b[0m: name 'species' is not defined"
     ]
    }
   ],
   "source": [
    "### species names\n",
    "species_name = 'Andropogon gerardii'\n",
    "\n",
    "### species info for gbif\n",
    "species_info = species.name_lookup(species_name,\n",
    "\t\t\t\t\trank = 'SPECIES')\n",
    "\n",
    "### grab the first resule\n",
    "first_result = species_info['results'][0]\n",
    "\n",
    "### get species key\n",
    "species_key = first_result['nubKey']\n",
    "\n",
    "### check on that\n",
    "first_result['species'], species_key\n",
    "\n"
   ]
  },
  {
   "cell_type": "code",
   "execution_count": 5,
   "metadata": {},
   "outputs": [],
   "source": [
    "### assign species code\n",
    "species_key = 4932035"
   ]
  },
  {
   "cell_type": "code",
   "execution_count": 6,
   "metadata": {},
   "outputs": [
    {
     "ename": "NameError",
     "evalue": "name 'os' is not defined",
     "output_type": "error",
     "traceback": [
      "\u001b[1;31m---------------------------------------------------------------------------\u001b[0m",
      "\u001b[1;31mNameError\u001b[0m                                 Traceback (most recent call last)",
      "Cell \u001b[1;32mIn[6], line 2\u001b[0m\n\u001b[0;32m      1\u001b[0m \u001b[38;5;66;03m### set a file pattern\u001b[39;00m\n\u001b[1;32m----> 2\u001b[0m gbif_pattern \u001b[38;5;241m=\u001b[39m \u001b[43mos\u001b[49m\u001b[38;5;241m.\u001b[39mpath\u001b[38;5;241m.\u001b[39mjoin(gbif_dir,\n\u001b[0;32m      3\u001b[0m \t\t\t\t\u001b[38;5;124m'\u001b[39m\u001b[38;5;124m*.csv\u001b[39m\u001b[38;5;124m'\u001b[39m)\n",
      "\u001b[1;31mNameError\u001b[0m: name 'os' is not defined"
     ]
    }
   ],
   "source": [
    "### set a file pattern\n",
    "gbif_pattern = os.path.join(gbif_dir,\n",
    "\t\t\t\t'*.csv')"
   ]
  },
  {
   "cell_type": "markdown",
   "metadata": {},
   "source": [
    "###Species Description:\n",
    "\n",
    "In terms of global carbon storage and sequestration, soil health is critical. Globally, soil organic carbon holds about 1550 Pg of carbon. Soil inorganic carbon holds about 950 Pg, which together make soil the third largest carbon pool on Earth after the geologic pool (4130 Pg, including fossil fuels) and the oceanic pool (38000 Pg)(Source 1). This figure represents around 80% of the carbon found in terrestrial ecosystems (Source 2).\n",
    "\n",
    "In one study, the species Andropogon gerardii, commonly called Big Bluestem, was found to have a positive association with carbon storage, and was used as an indicator species (Source 3).\n",
    "\n",
    "Andropogon gerardii habitat characteristics and tolerances:\n",
    "- Soil type: Lowland silt and clay loam\n",
    "- Soil horizon > 10in\n",
    "- elevation: \n",
    "        CO     3,400 to 9,500 feet (1,036-2,896 m)\n",
    "        NM     3,500 to 9,000 feet (1,067-2,743 m)\n",
    "        MT     3,300 to 4,000 feet (1,006-1,219 m)\n",
    "        WY     3,600 to 9,000 feet (1,067-2,743 m)\n",
    "(Source 4)\n",
    "- Optimal soil temperature: 25C. \"Soil temperatures below 20 °C caused significant reductions in foliar nitrogen (N) and phosphorus(P) concentration\". \"reduced photosynthetic rates observed at 5 and 10 °C Tsoil\" \"Net photosynthesis was < 12 /^mol m\"^ s\"' at 5 and 10 °C Tsoil and > 20 micromol\\ m^-2 s^-1 at 15-40 °C.\". Based on the graphs in this study, it seems that bluestem would be growth-limited above 30 and below 20 degrees C, and severely limited outside 15-35 degrees. (Source 5)\n",
    "- min soil temp -15C (source 8)\n",
    "- well drained or moist soil, full sun (Source 8)\n",
    "- Precip: 10-60mm / yr (source7)\n",
    "- pH 6.0-7.5 (source 10)\n",
    "\n",
    "Sources:\n",
    "1) https://royalsocietypublishing.org/doi/pdf/10.1098/rstb.2007.2185\n",
    "2) https://www.nature.com/scitable/knowledge/library/soil-carbon-storage-84223790/#:~:text=The%20amount%20of%20C%20in,in%20soil%20(Lal%202008).\n",
    "3) https://pmc.ncbi.nlm.nih.gov/articles/PMC8367897/\n",
    "4) https://www.fs.usda.gov/database/feis/plants/graminoid/andger/all.html\n",
    "5) https://nph.onlinelibrary.wiley.com/doi/epdf/10.1111/j.1469-8137.1992.tb01804.x\n",
    "6) https://plants.usda.gov/DocumentLibrary/factsheet/pdf/fs_ange.pdf\n",
    "7) https://plants.usda.gov/DocumentLibrary/plantguide/pdf/pg_scsc.pdf\n",
    "8) https://pfaf.org/user/Plant.aspx?LatinName=Andropogon+gerardii \n",
    "9) https://link.springer.com/article/10.1023/A:1020320214750 \n",
    "10) https://greatbasinseeds.com/product/big-bluestem/?srsltid=AfmBOoqeQLl_4uKA8wwv_4x4rFgQ7XERV07BlzAzxuMDXfQcyyM8s26m"
   ]
  }
 ],
 "metadata": {
  "kernelspec": {
   "display_name": "earth-analytics-python",
   "language": "python",
   "name": "python3"
  },
  "language_info": {
   "codemirror_mode": {
    "name": "ipython",
    "version": 3
   },
   "file_extension": ".py",
   "mimetype": "text/x-python",
   "name": "python",
   "nbconvert_exporter": "python",
   "pygments_lexer": "ipython3",
   "version": "3.11.10"
  }
 },
 "nbformat": 4,
 "nbformat_minor": 2
}
